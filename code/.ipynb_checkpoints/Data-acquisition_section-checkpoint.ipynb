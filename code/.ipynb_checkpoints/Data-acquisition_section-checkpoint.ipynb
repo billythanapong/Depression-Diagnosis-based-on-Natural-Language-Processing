{
 "cells": [
  {
   "cell_type": "markdown",
   "id": "4f6dfd07",
   "metadata": {},
   "source": [
    "# Data acquisition"
   ]
  },
  {
   "cell_type": "code",
   "execution_count": 1,
   "id": "e6c82cba",
   "metadata": {},
   "outputs": [],
   "source": [
    "# Imports \n",
    "import pandas as pd\n",
    "import numpy as np\n",
    "import requests\n",
    "import time\n"
   ]
  },
  {
   "cell_type": "code",
   "execution_count": 2,
   "id": "6f151d30",
   "metadata": {},
   "outputs": [],
   "source": [
    "\n",
    "# !!!!!!!!!!!!!! Don't run this !!!!!!!!!!!!!\n",
    "real_df = pd.DataFrame(columns = ['title','selftext','subreddit'])"
   ]
  },
  {
   "cell_type": "code",
   "execution_count": 4,
   "id": "e4255419",
   "metadata": {
    "scrolled": true
   },
   "outputs": [
    {
     "name": "stdout",
     "output_type": "stream",
     "text": [
      "finish iteration 3\n",
      "finish iteration 3\n"
     ]
    }
   ],
   "source": [
    "iteration = 4 # 1 iteration will get around 1250 posts\n",
    "\n",
    "url_list = ['https://www.reddit.com/r/depression.json','https://www.reddit.com/r/vent.json']\n",
    "for url_ in url_list:\n",
    "    for it in range(iteration):\n",
    "# ----------------------------First subreddit ----------------------------------\n",
    "\n",
    "        headers = {\"User-agent\" : \"BL\"} # Given form youtube vdo \n",
    "        posts = []\n",
    "        after = None\n",
    "        for i in range(25): # 25 posts per page \n",
    "            if after == None:\n",
    "                params = {}\n",
    "            else:\n",
    "                params = {\"after\" : after}\n",
    "            url = url_ # edit subject\n",
    "            res = requests.get(url, params = params, headers=headers)\n",
    "            if res.status_code == 200 :\n",
    "                the_json = res.json()\n",
    "                posts.extend(the_json[\"data\"][\"children\"]) # these are posts\n",
    "                after = the_json[\"data\"][\"after\"] # check where is the last post\n",
    "            else:\n",
    "                print(res.status_code) # print error status\n",
    "                break\n",
    "            time.sleep(1)\n",
    "    print(f'finish iteration {it}')\n",
    "    time.sleep(180) # set 3 mins sleep for not getting banned before doing next url.\n",
    "\n",
    "    \n",
    "    \n",
    "    # Create Dataframe\n",
    "selftext_ds = [] # title of post\n",
    "subreddit_ds = [] # subject\n",
    "title_ds = []\n",
    "for i in range(len(posts)):\n",
    "    title_ds.append(posts[i]['data']['title'])\n",
    "    selftext_ds.append(posts[i][\"data\"][\"selftext\"])# title + text\n",
    "    subreddit_ds.append(posts[i][\"data\"][\"subreddit\"])\n",
    "    \n",
    "\n",
    "data_ds = pd.DataFrame({'title':title_ds,'selftext': selftext_ds,'subreddit': subreddit_ds})\n",
    "real_df = pd.concat([real_df,data_ds],axis=0)\n",
    "real_df.to_csv('data_w_title_medium.csv')\n",
    "\n"
   ]
  },
  {
   "cell_type": "code",
   "execution_count": 5,
   "id": "faa8b892",
   "metadata": {
    "scrolled": true
   },
   "outputs": [
    {
     "data": {
      "text/plain": [
       "(5012, 3)"
      ]
     },
     "execution_count": 5,
     "metadata": {},
     "output_type": "execute_result"
    }
   ],
   "source": [
    "# check shape\n",
    "real_df.shape"
   ]
  },
  {
   "cell_type": "code",
   "execution_count": 6,
   "id": "5435ffd8",
   "metadata": {
    "scrolled": true
   },
   "outputs": [
    {
     "data": {
      "text/plain": [
       "depression    2508\n",
       "Vent          2504\n",
       "Name: subreddit, dtype: int64"
      ]
     },
     "execution_count": 6,
     "metadata": {},
     "output_type": "execute_result"
    }
   ],
   "source": [
    "# check whether balanced or not?\n",
    "real_df['subreddit'].value_counts()"
   ]
  },
  {
   "cell_type": "code",
   "execution_count": 12,
   "id": "afcb1db4",
   "metadata": {},
   "outputs": [
    {
     "data": {
      "text/plain": [
       "title        0\n",
       "selftext     0\n",
       "subreddit    0\n",
       "dtype: int64"
      ]
     },
     "execution_count": 12,
     "metadata": {},
     "output_type": "execute_result"
    }
   ],
   "source": [
    "# check NaN values\n",
    "real_df.isnull().sum()"
   ]
  },
  {
   "cell_type": "code",
   "execution_count": 13,
   "id": "41839f9f",
   "metadata": {},
   "outputs": [
    {
     "data": {
      "text/plain": [
       "depression    631\n",
       "Vent          628\n",
       "Name: subreddit, dtype: int64"
      ]
     },
     "execution_count": 13,
     "metadata": {},
     "output_type": "execute_result"
    }
   ],
   "source": [
    "# drop duplicates values\n",
    "real_df.drop_duplicates()['subreddit'].value_counts()"
   ]
  },
  {
   "cell_type": "code",
   "execution_count": 7,
   "id": "8efc37e2",
   "metadata": {},
   "outputs": [],
   "source": [
    "real_df.to_csv('../data/data_raw.csv')"
   ]
  }
 ],
 "metadata": {
  "kernelspec": {
   "display_name": "Python 3 (ipykernel)",
   "language": "python",
   "name": "python3"
  },
  "language_info": {
   "codemirror_mode": {
    "name": "ipython",
    "version": 3
   },
   "file_extension": ".py",
   "mimetype": "text/x-python",
   "name": "python",
   "nbconvert_exporter": "python",
   "pygments_lexer": "ipython3",
   "version": "3.9.12"
  }
 },
 "nbformat": 4,
 "nbformat_minor": 5
}
